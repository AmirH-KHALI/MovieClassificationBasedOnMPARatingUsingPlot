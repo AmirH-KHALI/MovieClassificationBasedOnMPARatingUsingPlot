{
 "nbformat": 4,
 "nbformat_minor": 0,
 "metadata": {
  "colab": {
   "name": "MovieClassificationBasedOnMPARatingUsingPlot.ipynb",
   "provenance": [],
   "collapsed_sections": [
    "_YlqRoF5kQKW"
   ]
  },
  "kernelspec": {
   "name": "python3",
   "display_name": "Python 3"
  },
  "language_info": {
   "name": "python"
  }
 },
 "cells": [
  {
   "cell_type": "code",
   "source": [
    "import pandas as pd\n",
    "import requests\n",
    "from bs4 import BeautifulSoup\n",
    "from tqdm import tqdm\n",
    "import string\n",
    "import os.path \n",
    "import matplotlib.pyplot as plt\n",
    "import ast\n",
    "\n",
    "import nltk\n",
    "from nltk.corpus import stopwords\n",
    "from nltk.stem import WordNetLemmatizer\n",
    "from nltk.tokenize import word_tokenize, sent_tokenize\n",
    "from collections import Counter"
   ],
   "metadata": {
    "id": "5rw9F-DVOEEn",
    "pycharm": {
     "name": "#%%\n"
    }
   },
   "execution_count": 332,
   "outputs": []
  },
  {
   "cell_type": "code",
   "source": [
    "# from google.colab import drive, auth\n",
    "# # Mount Google Drive\n",
    "# drive.mount(\"/content/drive\")"
   ],
   "metadata": {
    "id": "B1YKcYKajQhK",
    "pycharm": {
     "name": "#%%\n"
    }
   },
   "execution_count": 333,
   "outputs": []
  },
  {
   "cell_type": "code",
   "source": [
    "base_dir = './'"
   ],
   "metadata": {
    "id": "8ZY7b1jNj1Zs",
    "pycharm": {
     "name": "#%%\n"
    }
   },
   "execution_count": 334,
   "outputs": []
  },
  {
   "cell_type": "markdown",
   "source": [
    "# **Data Collection**"
   ],
   "metadata": {
    "id": "_YlqRoF5kQKW",
    "pycharm": {
     "name": "#%% md\n"
    }
   }
  },
  {
   "cell_type": "code",
   "source": [
    "raw_list = []"
   ],
   "metadata": {
    "id": "myKJEMU-G0lc",
    "pycharm": {
     "name": "#%%\n"
    }
   },
   "execution_count": 335,
   "outputs": []
  },
  {
   "cell_type": "code",
   "source": [
    "def crawl(mpa):\n",
    "    for current_page in tqdm(range(1, 9952, 50)):\n",
    "        response = requests.get('https://www.imdb.com/search/title/?' \n",
    "                                + 'title_type=feature,tv_movie,tv_special,documentary,short,tv_short' \n",
    "                                + '&certificates=US%3A' + mpa \n",
    "                                + '&start=' + str(current_page))\n",
    "\n",
    "        soup = BeautifulSoup(response.text, 'html.parser')\n",
    "\n",
    "        for i in range(len(soup.select('h3.lister-item-header a'))):\n",
    "            title = soup.select('h3.lister-item-header a')[i].get_text()\n",
    "            plot = soup.select('p.text-muted')[2 * i + 1].get_text()\n",
    "            raw_list.append([title, mpa, plot])"
   ],
   "metadata": {
    "id": "7dbk-iAeOGhe",
    "pycharm": {
     "name": "#%%\n"
    }
   },
   "execution_count": 336,
   "outputs": []
  },
  {
   "cell_type": "code",
   "source": [
    "crawl('G')"
   ],
   "metadata": {
    "id": "7qsLAbUAPGEs",
    "colab": {
     "base_uri": "https://localhost:8080/"
    },
    "outputId": "d755b1af-3294-4070-9b8c-6bcc977ab850",
    "pycharm": {
     "name": "#%%\n"
    }
   },
   "execution_count": 337,
   "outputs": [
    {
     "output_type": "stream",
     "name": "stderr",
     "text": [
      "100%|██████████| 200/200 [03:32<00:00,  1.06s/it]\n"
     ]
    }
   ]
  },
  {
   "cell_type": "code",
   "source": [
    "crawl('PG')"
   ],
   "metadata": {
    "colab": {
     "base_uri": "https://localhost:8080/"
    },
    "id": "UZpzWLAoJjM1",
    "outputId": "078f8cb3-6d37-4163-917c-8537a3e39e73",
    "pycharm": {
     "name": "#%%\n"
    }
   },
   "execution_count": 338,
   "outputs": [
    {
     "output_type": "stream",
     "name": "stderr",
     "text": [
      "100%|██████████| 200/200 [05:15<00:00,  1.58s/it]\n"
     ]
    }
   ]
  },
  {
   "cell_type": "code",
   "source": [
    "crawl('PG-13')"
   ],
   "metadata": {
    "colab": {
     "base_uri": "https://localhost:8080/"
    },
    "id": "Ffp8RpIfJkmT",
    "outputId": "6c0d4f2d-cd8a-492e-a8bb-d3a3ec91d8a9",
    "pycharm": {
     "name": "#%%\n"
    }
   },
   "execution_count": 339,
   "outputs": [
    {
     "output_type": "stream",
     "name": "stderr",
     "text": [
      "100%|██████████| 200/200 [05:08<00:00,  1.54s/it]\n"
     ]
    }
   ]
  },
  {
   "cell_type": "code",
   "source": [
    "crawl('R')"
   ],
   "metadata": {
    "colab": {
     "base_uri": "https://localhost:8080/"
    },
    "id": "y_CMmjItJmZ7",
    "outputId": "357faf92-96a4-452b-cf3b-08658e893a13",
    "pycharm": {
     "name": "#%%\n"
    }
   },
   "execution_count": 340,
   "outputs": [
    {
     "output_type": "stream",
     "name": "stderr",
     "text": [
      "100%|██████████| 200/200 [05:16<00:00,  1.58s/it]\n"
     ]
    }
   ]
  },
  {
   "cell_type": "code",
   "source": [
    "raw_data = pd.DataFrame(raw_list, columns = ['Title', 'MPA', 'Plot'])\n",
    "raw_data.Plot = raw_data.Plot.apply(lambda p: p.replace('\\n', ''))\n",
    "raw_data.head()"
   ],
   "metadata": {
    "colab": {
     "base_uri": "https://localhost:8080/",
     "height": 206
    },
    "id": "M-czyS9bQRhH",
    "outputId": "57a9c3a5-9ab1-4352-bb02-f99789659346",
    "pycharm": {
     "name": "#%%\n"
    }
   },
   "execution_count": 341,
   "outputs": [
    {
     "output_type": "execute_result",
     "data": {
      "text/plain": [
       "                   Title MPA  \\\n",
       "0          The Lion King   G   \n",
       "1                   Cars   G   \n",
       "2                   Luck   G   \n",
       "3  2001: A Space Odyssey   G   \n",
       "4            Ratatouille   G   \n",
       "\n",
       "                                                Plot  \n",
       "0  Lion prince Simba and his father are targeted ...  \n",
       "1  A hot-shot race-car named Lightning McQueen ge...  \n",
       "2  The curtain is pulled back on the millennia-ol...  \n",
       "3  The Monoliths push humanity to reach for the s...  \n",
       "4  A rat who can cook makes an unusual alliance w...  "
      ],
      "text/html": [
       "\n",
       "  <div id=\"df-2f9191dc-8911-45d6-ad82-ab6a856beeb4\">\n",
       "    <div class=\"colab-df-container\">\n",
       "      <div>\n",
       "<style scoped>\n",
       "    .dataframe tbody tr th:only-of-type {\n",
       "        vertical-align: middle;\n",
       "    }\n",
       "\n",
       "    .dataframe tbody tr th {\n",
       "        vertical-align: top;\n",
       "    }\n",
       "\n",
       "    .dataframe thead th {\n",
       "        text-align: right;\n",
       "    }\n",
       "</style>\n",
       "<table border=\"1\" class=\"dataframe\">\n",
       "  <thead>\n",
       "    <tr style=\"text-align: right;\">\n",
       "      <th></th>\n",
       "      <th>Title</th>\n",
       "      <th>MPA</th>\n",
       "      <th>Plot</th>\n",
       "    </tr>\n",
       "  </thead>\n",
       "  <tbody>\n",
       "    <tr>\n",
       "      <th>0</th>\n",
       "      <td>The Lion King</td>\n",
       "      <td>G</td>\n",
       "      <td>Lion prince Simba and his father are targeted ...</td>\n",
       "    </tr>\n",
       "    <tr>\n",
       "      <th>1</th>\n",
       "      <td>Cars</td>\n",
       "      <td>G</td>\n",
       "      <td>A hot-shot race-car named Lightning McQueen ge...</td>\n",
       "    </tr>\n",
       "    <tr>\n",
       "      <th>2</th>\n",
       "      <td>Luck</td>\n",
       "      <td>G</td>\n",
       "      <td>The curtain is pulled back on the millennia-ol...</td>\n",
       "    </tr>\n",
       "    <tr>\n",
       "      <th>3</th>\n",
       "      <td>2001: A Space Odyssey</td>\n",
       "      <td>G</td>\n",
       "      <td>The Monoliths push humanity to reach for the s...</td>\n",
       "    </tr>\n",
       "    <tr>\n",
       "      <th>4</th>\n",
       "      <td>Ratatouille</td>\n",
       "      <td>G</td>\n",
       "      <td>A rat who can cook makes an unusual alliance w...</td>\n",
       "    </tr>\n",
       "  </tbody>\n",
       "</table>\n",
       "</div>\n",
       "      <button class=\"colab-df-convert\" onclick=\"convertToInteractive('df-2f9191dc-8911-45d6-ad82-ab6a856beeb4')\"\n",
       "              title=\"Convert this dataframe to an interactive table.\"\n",
       "              style=\"display:none;\">\n",
       "        \n",
       "  <svg xmlns=\"http://www.w3.org/2000/svg\" height=\"24px\"viewBox=\"0 0 24 24\"\n",
       "       width=\"24px\">\n",
       "    <path d=\"M0 0h24v24H0V0z\" fill=\"none\"/>\n",
       "    <path d=\"M18.56 5.44l.94 2.06.94-2.06 2.06-.94-2.06-.94-.94-2.06-.94 2.06-2.06.94zm-11 1L8.5 8.5l.94-2.06 2.06-.94-2.06-.94L8.5 2.5l-.94 2.06-2.06.94zm10 10l.94 2.06.94-2.06 2.06-.94-2.06-.94-.94-2.06-.94 2.06-2.06.94z\"/><path d=\"M17.41 7.96l-1.37-1.37c-.4-.4-.92-.59-1.43-.59-.52 0-1.04.2-1.43.59L10.3 9.45l-7.72 7.72c-.78.78-.78 2.05 0 2.83L4 21.41c.39.39.9.59 1.41.59.51 0 1.02-.2 1.41-.59l7.78-7.78 2.81-2.81c.8-.78.8-2.07 0-2.86zM5.41 20L4 18.59l7.72-7.72 1.47 1.35L5.41 20z\"/>\n",
       "  </svg>\n",
       "      </button>\n",
       "      \n",
       "  <style>\n",
       "    .colab-df-container {\n",
       "      display:flex;\n",
       "      flex-wrap:wrap;\n",
       "      gap: 12px;\n",
       "    }\n",
       "\n",
       "    .colab-df-convert {\n",
       "      background-color: #E8F0FE;\n",
       "      border: none;\n",
       "      border-radius: 50%;\n",
       "      cursor: pointer;\n",
       "      display: none;\n",
       "      fill: #1967D2;\n",
       "      height: 32px;\n",
       "      padding: 0 0 0 0;\n",
       "      width: 32px;\n",
       "    }\n",
       "\n",
       "    .colab-df-convert:hover {\n",
       "      background-color: #E2EBFA;\n",
       "      box-shadow: 0px 1px 2px rgba(60, 64, 67, 0.3), 0px 1px 3px 1px rgba(60, 64, 67, 0.15);\n",
       "      fill: #174EA6;\n",
       "    }\n",
       "\n",
       "    [theme=dark] .colab-df-convert {\n",
       "      background-color: #3B4455;\n",
       "      fill: #D2E3FC;\n",
       "    }\n",
       "\n",
       "    [theme=dark] .colab-df-convert:hover {\n",
       "      background-color: #434B5C;\n",
       "      box-shadow: 0px 1px 3px 1px rgba(0, 0, 0, 0.15);\n",
       "      filter: drop-shadow(0px 1px 2px rgba(0, 0, 0, 0.3));\n",
       "      fill: #FFFFFF;\n",
       "    }\n",
       "  </style>\n",
       "\n",
       "      <script>\n",
       "        const buttonEl =\n",
       "          document.querySelector('#df-2f9191dc-8911-45d6-ad82-ab6a856beeb4 button.colab-df-convert');\n",
       "        buttonEl.style.display =\n",
       "          google.colab.kernel.accessAllowed ? 'block' : 'none';\n",
       "\n",
       "        async function convertToInteractive(key) {\n",
       "          const element = document.querySelector('#df-2f9191dc-8911-45d6-ad82-ab6a856beeb4');\n",
       "          const dataTable =\n",
       "            await google.colab.kernel.invokeFunction('convertToInteractive',\n",
       "                                                     [key], {});\n",
       "          if (!dataTable) return;\n",
       "\n",
       "          const docLinkHtml = 'Like what you see? Visit the ' +\n",
       "            '<a target=\"_blank\" href=https://colab.research.google.com/notebooks/data_table.ipynb>data table notebook</a>'\n",
       "            + ' to learn more about interactive tables.';\n",
       "          element.innerHTML = '';\n",
       "          dataTable['output_type'] = 'display_data';\n",
       "          await google.colab.output.renderOutput(dataTable, element);\n",
       "          const docLink = document.createElement('div');\n",
       "          docLink.innerHTML = docLinkHtml;\n",
       "          element.appendChild(docLink);\n",
       "        }\n",
       "      </script>\n",
       "    </div>\n",
       "  </div>\n",
       "  "
      ]
     },
     "metadata": {},
     "execution_count": 341
    }
   ]
  },
  {
   "cell_type": "code",
   "source": [
    "if not os.path.isdir(base_dir + 'data/'):\n",
    "    os.mkdir(base_dir + 'data/')\n",
    "\n",
    "if not os.path.isdir(base_dir + 'data/raw/'):\n",
    "    os.mkdir(base_dir + 'data/raw/')\n",
    "\n",
    "raw_data.to_csv(base_dir + 'data/raw/data.csv')"
   ],
   "metadata": {
    "id": "NgWpAMEJVuE8",
    "pycharm": {
     "name": "#%%\n"
    }
   },
   "execution_count": 342,
   "outputs": []
  },
  {
   "cell_type": "markdown",
   "source": [
    "# **Preprocessing**"
   ],
   "metadata": {
    "id": "-9Xc011Hg52h",
    "pycharm": {
     "name": "#%% md\n"
    }
   }
  },
  {
   "cell_type": "code",
   "source": [
    "df = pd.read_csv(base_dir + 'data/raw/data.csv', index_col=0)\n",
    "df"
   ],
   "metadata": {
    "colab": {
     "base_uri": "https://localhost:8080/",
     "height": 424
    },
    "id": "fXusQOqqhrw1",
    "outputId": "f406f235-43d1-4dde-cda6-fb3d9d79f4ba",
    "pycharm": {
     "name": "#%%\n"
    }
   },
   "execution_count": 343,
   "outputs": [
    {
     "output_type": "execute_result",
     "data": {
      "text/plain": [
       "                                Title MPA  \\\n",
       "0                       The Lion King   G   \n",
       "1                                Cars   G   \n",
       "2                                Luck   G   \n",
       "3               2001: A Space Odyssey   G   \n",
       "4                         Ratatouille   G   \n",
       "...                               ...  ..   \n",
       "28105                  Zombie Diaries   R   \n",
       "28106  Gangsta Rap: The Glockumentary   R   \n",
       "28107                 Satan's Sadists   R   \n",
       "28108                   Train of Life   R   \n",
       "28109              The Devil's Female   R   \n",
       "\n",
       "                                                    Plot  \n",
       "0      Lion prince Simba and his father are targeted ...  \n",
       "1      A hot-shot race-car named Lightning McQueen ge...  \n",
       "2      The curtain is pulled back on the millennia-ol...  \n",
       "3      The Monoliths push humanity to reach for the s...  \n",
       "4      A rat who can cook makes an unusual alliance w...  \n",
       "...                                                  ...  \n",
       "28105  An unknown virus begins spreading and within w...  \n",
       "28106  The hardest group you've never heard of is bac...  \n",
       "28107  The \"Satans\" are a very cruel biker gang led b...  \n",
       "28108  In 1941, the inhabitants of a small Jewish vil...  \n",
       "28109  After the gruesome death of her father, a youn...  \n",
       "\n",
       "[28110 rows x 3 columns]"
      ],
      "text/html": [
       "\n",
       "  <div id=\"df-38a119c1-aa69-485a-8dc7-346aa9962c6f\">\n",
       "    <div class=\"colab-df-container\">\n",
       "      <div>\n",
       "<style scoped>\n",
       "    .dataframe tbody tr th:only-of-type {\n",
       "        vertical-align: middle;\n",
       "    }\n",
       "\n",
       "    .dataframe tbody tr th {\n",
       "        vertical-align: top;\n",
       "    }\n",
       "\n",
       "    .dataframe thead th {\n",
       "        text-align: right;\n",
       "    }\n",
       "</style>\n",
       "<table border=\"1\" class=\"dataframe\">\n",
       "  <thead>\n",
       "    <tr style=\"text-align: right;\">\n",
       "      <th></th>\n",
       "      <th>Title</th>\n",
       "      <th>MPA</th>\n",
       "      <th>Plot</th>\n",
       "    </tr>\n",
       "  </thead>\n",
       "  <tbody>\n",
       "    <tr>\n",
       "      <th>0</th>\n",
       "      <td>The Lion King</td>\n",
       "      <td>G</td>\n",
       "      <td>Lion prince Simba and his father are targeted ...</td>\n",
       "    </tr>\n",
       "    <tr>\n",
       "      <th>1</th>\n",
       "      <td>Cars</td>\n",
       "      <td>G</td>\n",
       "      <td>A hot-shot race-car named Lightning McQueen ge...</td>\n",
       "    </tr>\n",
       "    <tr>\n",
       "      <th>2</th>\n",
       "      <td>Luck</td>\n",
       "      <td>G</td>\n",
       "      <td>The curtain is pulled back on the millennia-ol...</td>\n",
       "    </tr>\n",
       "    <tr>\n",
       "      <th>3</th>\n",
       "      <td>2001: A Space Odyssey</td>\n",
       "      <td>G</td>\n",
       "      <td>The Monoliths push humanity to reach for the s...</td>\n",
       "    </tr>\n",
       "    <tr>\n",
       "      <th>4</th>\n",
       "      <td>Ratatouille</td>\n",
       "      <td>G</td>\n",
       "      <td>A rat who can cook makes an unusual alliance w...</td>\n",
       "    </tr>\n",
       "    <tr>\n",
       "      <th>...</th>\n",
       "      <td>...</td>\n",
       "      <td>...</td>\n",
       "      <td>...</td>\n",
       "    </tr>\n",
       "    <tr>\n",
       "      <th>28105</th>\n",
       "      <td>Zombie Diaries</td>\n",
       "      <td>R</td>\n",
       "      <td>An unknown virus begins spreading and within w...</td>\n",
       "    </tr>\n",
       "    <tr>\n",
       "      <th>28106</th>\n",
       "      <td>Gangsta Rap: The Glockumentary</td>\n",
       "      <td>R</td>\n",
       "      <td>The hardest group you've never heard of is bac...</td>\n",
       "    </tr>\n",
       "    <tr>\n",
       "      <th>28107</th>\n",
       "      <td>Satan's Sadists</td>\n",
       "      <td>R</td>\n",
       "      <td>The \"Satans\" are a very cruel biker gang led b...</td>\n",
       "    </tr>\n",
       "    <tr>\n",
       "      <th>28108</th>\n",
       "      <td>Train of Life</td>\n",
       "      <td>R</td>\n",
       "      <td>In 1941, the inhabitants of a small Jewish vil...</td>\n",
       "    </tr>\n",
       "    <tr>\n",
       "      <th>28109</th>\n",
       "      <td>The Devil's Female</td>\n",
       "      <td>R</td>\n",
       "      <td>After the gruesome death of her father, a youn...</td>\n",
       "    </tr>\n",
       "  </tbody>\n",
       "</table>\n",
       "<p>28110 rows × 3 columns</p>\n",
       "</div>\n",
       "      <button class=\"colab-df-convert\" onclick=\"convertToInteractive('df-38a119c1-aa69-485a-8dc7-346aa9962c6f')\"\n",
       "              title=\"Convert this dataframe to an interactive table.\"\n",
       "              style=\"display:none;\">\n",
       "        \n",
       "  <svg xmlns=\"http://www.w3.org/2000/svg\" height=\"24px\"viewBox=\"0 0 24 24\"\n",
       "       width=\"24px\">\n",
       "    <path d=\"M0 0h24v24H0V0z\" fill=\"none\"/>\n",
       "    <path d=\"M18.56 5.44l.94 2.06.94-2.06 2.06-.94-2.06-.94-.94-2.06-.94 2.06-2.06.94zm-11 1L8.5 8.5l.94-2.06 2.06-.94-2.06-.94L8.5 2.5l-.94 2.06-2.06.94zm10 10l.94 2.06.94-2.06 2.06-.94-2.06-.94-.94-2.06-.94 2.06-2.06.94z\"/><path d=\"M17.41 7.96l-1.37-1.37c-.4-.4-.92-.59-1.43-.59-.52 0-1.04.2-1.43.59L10.3 9.45l-7.72 7.72c-.78.78-.78 2.05 0 2.83L4 21.41c.39.39.9.59 1.41.59.51 0 1.02-.2 1.41-.59l7.78-7.78 2.81-2.81c.8-.78.8-2.07 0-2.86zM5.41 20L4 18.59l7.72-7.72 1.47 1.35L5.41 20z\"/>\n",
       "  </svg>\n",
       "      </button>\n",
       "      \n",
       "  <style>\n",
       "    .colab-df-container {\n",
       "      display:flex;\n",
       "      flex-wrap:wrap;\n",
       "      gap: 12px;\n",
       "    }\n",
       "\n",
       "    .colab-df-convert {\n",
       "      background-color: #E8F0FE;\n",
       "      border: none;\n",
       "      border-radius: 50%;\n",
       "      cursor: pointer;\n",
       "      display: none;\n",
       "      fill: #1967D2;\n",
       "      height: 32px;\n",
       "      padding: 0 0 0 0;\n",
       "      width: 32px;\n",
       "    }\n",
       "\n",
       "    .colab-df-convert:hover {\n",
       "      background-color: #E2EBFA;\n",
       "      box-shadow: 0px 1px 2px rgba(60, 64, 67, 0.3), 0px 1px 3px 1px rgba(60, 64, 67, 0.15);\n",
       "      fill: #174EA6;\n",
       "    }\n",
       "\n",
       "    [theme=dark] .colab-df-convert {\n",
       "      background-color: #3B4455;\n",
       "      fill: #D2E3FC;\n",
       "    }\n",
       "\n",
       "    [theme=dark] .colab-df-convert:hover {\n",
       "      background-color: #434B5C;\n",
       "      box-shadow: 0px 1px 3px 1px rgba(0, 0, 0, 0.15);\n",
       "      filter: drop-shadow(0px 1px 2px rgba(0, 0, 0, 0.3));\n",
       "      fill: #FFFFFF;\n",
       "    }\n",
       "  </style>\n",
       "\n",
       "      <script>\n",
       "        const buttonEl =\n",
       "          document.querySelector('#df-38a119c1-aa69-485a-8dc7-346aa9962c6f button.colab-df-convert');\n",
       "        buttonEl.style.display =\n",
       "          google.colab.kernel.accessAllowed ? 'block' : 'none';\n",
       "\n",
       "        async function convertToInteractive(key) {\n",
       "          const element = document.querySelector('#df-38a119c1-aa69-485a-8dc7-346aa9962c6f');\n",
       "          const dataTable =\n",
       "            await google.colab.kernel.invokeFunction('convertToInteractive',\n",
       "                                                     [key], {});\n",
       "          if (!dataTable) return;\n",
       "\n",
       "          const docLinkHtml = 'Like what you see? Visit the ' +\n",
       "            '<a target=\"_blank\" href=https://colab.research.google.com/notebooks/data_table.ipynb>data table notebook</a>'\n",
       "            + ' to learn more about interactive tables.';\n",
       "          element.innerHTML = '';\n",
       "          dataTable['output_type'] = 'display_data';\n",
       "          await google.colab.output.renderOutput(dataTable, element);\n",
       "          const docLink = document.createElement('div');\n",
       "          docLink.innerHTML = docLinkHtml;\n",
       "          element.appendChild(docLink);\n",
       "        }\n",
       "      </script>\n",
       "    </div>\n",
       "  </div>\n",
       "  "
      ]
     },
     "metadata": {},
     "execution_count": 343
    }
   ]
  },
  {
   "cell_type": "code",
   "source": [
    "nltk.download('stopwords')\n",
    "nltk.download('punkt')\n",
    "nltk.download('wordnet')"
   ],
   "metadata": {
    "colab": {
     "base_uri": "https://localhost:8080/"
    },
    "id": "QDlmsVh0jHnT",
    "outputId": "a1bdde1c-39f0-4fa7-c5fc-504c83e8a454",
    "pycharm": {
     "name": "#%%\n"
    }
   },
   "execution_count": 344,
   "outputs": [
    {
     "output_type": "stream",
     "name": "stdout",
     "text": [
      "[nltk_data] Downloading package stopwords to /root/nltk_data...\n",
      "[nltk_data]   Package stopwords is already up-to-date!\n",
      "[nltk_data] Downloading package punkt to /root/nltk_data...\n",
      "[nltk_data]   Package punkt is already up-to-date!\n",
      "[nltk_data] Downloading package wordnet to /root/nltk_data...\n",
      "[nltk_data]   Package wordnet is already up-to-date!\n"
     ]
    },
    {
     "output_type": "execute_result",
     "data": {
      "text/plain": [
       "True"
      ]
     },
     "metadata": {},
     "execution_count": 344
    }
   ]
  },
  {
   "cell_type": "code",
   "source": [
    "df = df.drop(df[df.Plot == 'Add a Plot'].index)\n",
    "df = df.reset_index().drop(columns = 'index')\n",
    "df['Plot'] = df['Plot'].str.replace('See full summary', '')"
   ],
   "metadata": {
    "id": "x1LFWMovn17J",
    "pycharm": {
     "name": "#%%\n"
    }
   },
   "execution_count": 345,
   "outputs": []
  },
  {
   "cell_type": "code",
   "source": [
    "df['Normalized_Plot'] = df['Plot'].str.lower()\n",
    "df['Normalized_Plot'] = df['Normalized_Plot'].str.translate(str.maketrans('', '', string.punctuation + '»' + '«'))\n",
    "df['Normalized_Plot'] = df['Normalized_Plot'].str.translate(str.maketrans('', '', string.digits))\n",
    "df['Normalized_Plot'] = df['Normalized_Plot'].apply(word_tokenize)\n",
    "df['Normalized_Plot'] = df['Normalized_Plot'].apply(lambda lst : [word for word in lst if word not in set(stopwords.words('english'))])\n",
    "df['Normalized_Plot'] = df['Normalized_Plot'].apply(lambda lst : [WordNetLemmatizer().lemmatize(w) for w in lst])"
   ],
   "metadata": {
    "id": "lbWpg6_NiPY3",
    "pycharm": {
     "name": "#%%\n"
    }
   },
   "execution_count": 346,
   "outputs": []
  },
  {
   "cell_type": "code",
   "source": [
    "if not os.path.isdir(base_dir + 'data/'):\n",
    "    os.mkdir(base_dir + 'data/')\n",
    "\n",
    "if not os.path.isdir(base_dir + 'data/cleaned/'):\n",
    "    os.mkdir(base_dir + 'data/cleaned/')\n",
    "\n",
    "df.to_csv(base_dir + 'data/cleaned/data.csv')"
   ],
   "metadata": {
    "id": "cbe8XCDkNm3_",
    "pycharm": {
     "name": "#%%\n"
    }
   },
   "execution_count": 347,
   "outputs": []
  },
  {
   "cell_type": "markdown",
   "source": [
    "# **Stats**"
   ],
   "metadata": {
    "id": "m5dr_VuO5VGi",
    "pycharm": {
     "name": "#%% md\n"
    }
   }
  },
  {
   "cell_type": "code",
   "source": [
    "df = pd.read_csv(base_dir + 'data/cleaned/data.csv', index_col=0)\n",
    "df"
   ],
   "metadata": {
    "colab": {
     "base_uri": "https://localhost:8080/",
     "height": 424
    },
    "id": "lOS6bT655Zv2",
    "outputId": "e13d5476-8782-438a-80bc-8b6f455b24f6",
    "pycharm": {
     "name": "#%%\n"
    }
   },
   "execution_count": 348,
   "outputs": [
    {
     "output_type": "execute_result",
     "data": {
      "text/plain": [
       "                                Title MPA  \\\n",
       "0                       The Lion King   G   \n",
       "1                                Cars   G   \n",
       "2                                Luck   G   \n",
       "3               2001: A Space Odyssey   G   \n",
       "4                         Ratatouille   G   \n",
       "...                               ...  ..   \n",
       "27396                  Zombie Diaries   R   \n",
       "27397  Gangsta Rap: The Glockumentary   R   \n",
       "27398                 Satan's Sadists   R   \n",
       "27399                   Train of Life   R   \n",
       "27400              The Devil's Female   R   \n",
       "\n",
       "                                                    Plot  \\\n",
       "0      Lion prince Simba and his father are targeted ...   \n",
       "1      A hot-shot race-car named Lightning McQueen ge...   \n",
       "2      The curtain is pulled back on the millennia-ol...   \n",
       "3      The Monoliths push humanity to reach for the s...   \n",
       "4      A rat who can cook makes an unusual alliance w...   \n",
       "...                                                  ...   \n",
       "27396  An unknown virus begins spreading and within w...   \n",
       "27397  The hardest group you've never heard of is bac...   \n",
       "27398  The \"Satans\" are a very cruel biker gang led b...   \n",
       "27399  In 1941, the inhabitants of a small Jewish vil...   \n",
       "27400  After the gruesome death of her father, a youn...   \n",
       "\n",
       "                                         Normalized_Plot  \n",
       "0      ['lion', 'prince', 'simba', 'father', 'targete...  \n",
       "1      ['hotshot', 'racecar', 'named', 'lightning', '...  \n",
       "2      ['curtain', 'pulled', 'back', 'millenniaold', ...  \n",
       "3      ['monolith', 'push', 'humanity', 'reach', 'sta...  \n",
       "4      ['rat', 'cook', 'make', 'unusual', 'alliance',...  \n",
       "...                                                  ...  \n",
       "27396  ['unknown', 'virus', 'begin', 'spreading', 'wi...  \n",
       "27397  ['hardest', 'group', 'youve', 'never', 'heard'...  \n",
       "27398  ['satan', 'cruel', 'biker', 'gang', 'led', 'an...  \n",
       "27399  ['inhabitant', 'small', 'jewish', 'village', '...  \n",
       "27400  ['gruesome', 'death', 'father', 'young', 'beau...  \n",
       "\n",
       "[27401 rows x 4 columns]"
      ],
      "text/html": [
       "\n",
       "  <div id=\"df-20bbc95f-29a3-4f21-9af4-42785ad23f10\">\n",
       "    <div class=\"colab-df-container\">\n",
       "      <div>\n",
       "<style scoped>\n",
       "    .dataframe tbody tr th:only-of-type {\n",
       "        vertical-align: middle;\n",
       "    }\n",
       "\n",
       "    .dataframe tbody tr th {\n",
       "        vertical-align: top;\n",
       "    }\n",
       "\n",
       "    .dataframe thead th {\n",
       "        text-align: right;\n",
       "    }\n",
       "</style>\n",
       "<table border=\"1\" class=\"dataframe\">\n",
       "  <thead>\n",
       "    <tr style=\"text-align: right;\">\n",
       "      <th></th>\n",
       "      <th>Title</th>\n",
       "      <th>MPA</th>\n",
       "      <th>Plot</th>\n",
       "      <th>Normalized_Plot</th>\n",
       "    </tr>\n",
       "  </thead>\n",
       "  <tbody>\n",
       "    <tr>\n",
       "      <th>0</th>\n",
       "      <td>The Lion King</td>\n",
       "      <td>G</td>\n",
       "      <td>Lion prince Simba and his father are targeted ...</td>\n",
       "      <td>['lion', 'prince', 'simba', 'father', 'targete...</td>\n",
       "    </tr>\n",
       "    <tr>\n",
       "      <th>1</th>\n",
       "      <td>Cars</td>\n",
       "      <td>G</td>\n",
       "      <td>A hot-shot race-car named Lightning McQueen ge...</td>\n",
       "      <td>['hotshot', 'racecar', 'named', 'lightning', '...</td>\n",
       "    </tr>\n",
       "    <tr>\n",
       "      <th>2</th>\n",
       "      <td>Luck</td>\n",
       "      <td>G</td>\n",
       "      <td>The curtain is pulled back on the millennia-ol...</td>\n",
       "      <td>['curtain', 'pulled', 'back', 'millenniaold', ...</td>\n",
       "    </tr>\n",
       "    <tr>\n",
       "      <th>3</th>\n",
       "      <td>2001: A Space Odyssey</td>\n",
       "      <td>G</td>\n",
       "      <td>The Monoliths push humanity to reach for the s...</td>\n",
       "      <td>['monolith', 'push', 'humanity', 'reach', 'sta...</td>\n",
       "    </tr>\n",
       "    <tr>\n",
       "      <th>4</th>\n",
       "      <td>Ratatouille</td>\n",
       "      <td>G</td>\n",
       "      <td>A rat who can cook makes an unusual alliance w...</td>\n",
       "      <td>['rat', 'cook', 'make', 'unusual', 'alliance',...</td>\n",
       "    </tr>\n",
       "    <tr>\n",
       "      <th>...</th>\n",
       "      <td>...</td>\n",
       "      <td>...</td>\n",
       "      <td>...</td>\n",
       "      <td>...</td>\n",
       "    </tr>\n",
       "    <tr>\n",
       "      <th>27396</th>\n",
       "      <td>Zombie Diaries</td>\n",
       "      <td>R</td>\n",
       "      <td>An unknown virus begins spreading and within w...</td>\n",
       "      <td>['unknown', 'virus', 'begin', 'spreading', 'wi...</td>\n",
       "    </tr>\n",
       "    <tr>\n",
       "      <th>27397</th>\n",
       "      <td>Gangsta Rap: The Glockumentary</td>\n",
       "      <td>R</td>\n",
       "      <td>The hardest group you've never heard of is bac...</td>\n",
       "      <td>['hardest', 'group', 'youve', 'never', 'heard'...</td>\n",
       "    </tr>\n",
       "    <tr>\n",
       "      <th>27398</th>\n",
       "      <td>Satan's Sadists</td>\n",
       "      <td>R</td>\n",
       "      <td>The \"Satans\" are a very cruel biker gang led b...</td>\n",
       "      <td>['satan', 'cruel', 'biker', 'gang', 'led', 'an...</td>\n",
       "    </tr>\n",
       "    <tr>\n",
       "      <th>27399</th>\n",
       "      <td>Train of Life</td>\n",
       "      <td>R</td>\n",
       "      <td>In 1941, the inhabitants of a small Jewish vil...</td>\n",
       "      <td>['inhabitant', 'small', 'jewish', 'village', '...</td>\n",
       "    </tr>\n",
       "    <tr>\n",
       "      <th>27400</th>\n",
       "      <td>The Devil's Female</td>\n",
       "      <td>R</td>\n",
       "      <td>After the gruesome death of her father, a youn...</td>\n",
       "      <td>['gruesome', 'death', 'father', 'young', 'beau...</td>\n",
       "    </tr>\n",
       "  </tbody>\n",
       "</table>\n",
       "<p>27401 rows × 4 columns</p>\n",
       "</div>\n",
       "      <button class=\"colab-df-convert\" onclick=\"convertToInteractive('df-20bbc95f-29a3-4f21-9af4-42785ad23f10')\"\n",
       "              title=\"Convert this dataframe to an interactive table.\"\n",
       "              style=\"display:none;\">\n",
       "        \n",
       "  <svg xmlns=\"http://www.w3.org/2000/svg\" height=\"24px\"viewBox=\"0 0 24 24\"\n",
       "       width=\"24px\">\n",
       "    <path d=\"M0 0h24v24H0V0z\" fill=\"none\"/>\n",
       "    <path d=\"M18.56 5.44l.94 2.06.94-2.06 2.06-.94-2.06-.94-.94-2.06-.94 2.06-2.06.94zm-11 1L8.5 8.5l.94-2.06 2.06-.94-2.06-.94L8.5 2.5l-.94 2.06-2.06.94zm10 10l.94 2.06.94-2.06 2.06-.94-2.06-.94-.94-2.06-.94 2.06-2.06.94z\"/><path d=\"M17.41 7.96l-1.37-1.37c-.4-.4-.92-.59-1.43-.59-.52 0-1.04.2-1.43.59L10.3 9.45l-7.72 7.72c-.78.78-.78 2.05 0 2.83L4 21.41c.39.39.9.59 1.41.59.51 0 1.02-.2 1.41-.59l7.78-7.78 2.81-2.81c.8-.78.8-2.07 0-2.86zM5.41 20L4 18.59l7.72-7.72 1.47 1.35L5.41 20z\"/>\n",
       "  </svg>\n",
       "      </button>\n",
       "      \n",
       "  <style>\n",
       "    .colab-df-container {\n",
       "      display:flex;\n",
       "      flex-wrap:wrap;\n",
       "      gap: 12px;\n",
       "    }\n",
       "\n",
       "    .colab-df-convert {\n",
       "      background-color: #E8F0FE;\n",
       "      border: none;\n",
       "      border-radius: 50%;\n",
       "      cursor: pointer;\n",
       "      display: none;\n",
       "      fill: #1967D2;\n",
       "      height: 32px;\n",
       "      padding: 0 0 0 0;\n",
       "      width: 32px;\n",
       "    }\n",
       "\n",
       "    .colab-df-convert:hover {\n",
       "      background-color: #E2EBFA;\n",
       "      box-shadow: 0px 1px 2px rgba(60, 64, 67, 0.3), 0px 1px 3px 1px rgba(60, 64, 67, 0.15);\n",
       "      fill: #174EA6;\n",
       "    }\n",
       "\n",
       "    [theme=dark] .colab-df-convert {\n",
       "      background-color: #3B4455;\n",
       "      fill: #D2E3FC;\n",
       "    }\n",
       "\n",
       "    [theme=dark] .colab-df-convert:hover {\n",
       "      background-color: #434B5C;\n",
       "      box-shadow: 0px 1px 3px 1px rgba(0, 0, 0, 0.15);\n",
       "      filter: drop-shadow(0px 1px 2px rgba(0, 0, 0, 0.3));\n",
       "      fill: #FFFFFF;\n",
       "    }\n",
       "  </style>\n",
       "\n",
       "      <script>\n",
       "        const buttonEl =\n",
       "          document.querySelector('#df-20bbc95f-29a3-4f21-9af4-42785ad23f10 button.colab-df-convert');\n",
       "        buttonEl.style.display =\n",
       "          google.colab.kernel.accessAllowed ? 'block' : 'none';\n",
       "\n",
       "        async function convertToInteractive(key) {\n",
       "          const element = document.querySelector('#df-20bbc95f-29a3-4f21-9af4-42785ad23f10');\n",
       "          const dataTable =\n",
       "            await google.colab.kernel.invokeFunction('convertToInteractive',\n",
       "                                                     [key], {});\n",
       "          if (!dataTable) return;\n",
       "\n",
       "          const docLinkHtml = 'Like what you see? Visit the ' +\n",
       "            '<a target=\"_blank\" href=https://colab.research.google.com/notebooks/data_table.ipynb>data table notebook</a>'\n",
       "            + ' to learn more about interactive tables.';\n",
       "          element.innerHTML = '';\n",
       "          dataTable['output_type'] = 'display_data';\n",
       "          await google.colab.output.renderOutput(dataTable, element);\n",
       "          const docLink = document.createElement('div');\n",
       "          docLink.innerHTML = docLinkHtml;\n",
       "          element.appendChild(docLink);\n",
       "        }\n",
       "      </script>\n",
       "    </div>\n",
       "  </div>\n",
       "  "
      ]
     },
     "metadata": {},
     "execution_count": 348
    }
   ]
  },
  {
   "cell_type": "code",
   "source": [
    "MPA_counts = {MPA : sum(df['MPA'] == MPA) for MPA in ['G', 'PG', 'PG-13', 'R']}\n",
    "plt.bar(MPA_counts.keys(), MPA_counts.values())\n",
    "plt.show()"
   ],
   "metadata": {
    "colab": {
     "base_uri": "https://localhost:8080/",
     "height": 265
    },
    "id": "ju0rVFEBxb-1",
    "outputId": "04efa414-2ff5-4295-c6e8-c34d1a7d6116",
    "pycharm": {
     "name": "#%%\n"
    }
   },
   "execution_count": 349,
   "outputs": [
    {
     "output_type": "display_data",
     "data": {
      "text/plain": [
       "<Figure size 432x288 with 1 Axes>"
      ],
      "image/png": "[encoded data removed]"
     },
     "metadata": {
      "needs_background": "light"
     }
    }
   ]
  },
  {
   "cell_type": "code",
   "source": [
    "counter = Counter()\n",
    "df['Normalized_Plot'].apply(lambda lst : ast.literal_eval(lst)).apply(counter.update)\n",
    "\n",
    "counter_list = [(k, v) for k, v in sorted(counter.items(), key=lambda item: item[1], reverse=True)]\n",
    "counter_list = counter_list[:10]\n",
    "x, y = zip(*counter_list)\n",
    "plt.figure(figsize=(10, 5), facecolor=None)\n",
    "plt.bar(x, y)\n",
    "plt.show()"
   ],
   "metadata": {
    "colab": {
     "base_uri": "https://localhost:8080/",
     "height": 320
    },
    "id": "19_7kJz6pLJQ",
    "outputId": "5a15d6ce-4255-4df5-93c7-c943797d6fd8",
    "pycharm": {
     "name": "#%%\n"
    }
   },
   "execution_count": 350,
   "outputs": [
    {
     "output_type": "display_data",
     "data": {
      "text/plain": [
       "<Figure size 720x360 with 1 Axes>"
      ],
      "image/png": "[encoded data removed]"
     },
     "metadata": {
      "needs_background": "light"
     }
    }
   ]
  },
  {
   "cell_type": "code",
   "source": [
    "print('Sentence count:', df['Plot'].apply(sent_tokenize).apply(len).sum())\n",
    "print('All words(preprocessed words):', sum(counter.values()))\n",
    "print('Unique words:', len(counter))"
   ],
   "metadata": {
    "colab": {
     "base_uri": "https://localhost:8080/"
    },
    "id": "6av-dHaNMM2Q",
    "outputId": "5c64589c-1ea5-425b-8782-63fa2bb516de",
    "pycharm": {
     "name": "#%%\n"
    }
   },
   "execution_count": 351,
   "outputs": [
    {
     "output_type": "stream",
     "name": "stdout",
     "text": [
      "Sentence count: 39327\n",
      "All words(preprocessed words): 422248\n",
      "Unique words: 34538\n"
     ]
    }
   ]
  }
 ]
}